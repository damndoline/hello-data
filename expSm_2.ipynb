{
 "cells": [
  {
   "cell_type": "code",
   "execution_count": 14,
   "metadata": {},
   "outputs": [
    {
     "data": {
      "text/html": [
       "<script>requirejs.config({paths: { 'plotly': ['https://cdn.plot.ly/plotly-latest.min']},});if(!window.Plotly) {{require(['plotly'],function(plotly) {window.Plotly=plotly;});}}</script>"
      ]
     },
     "metadata": {},
     "output_type": "execute_result"
    }
   ],
   "source": [
    "import numpy as np\n",
    "import pandas as pd\n",
    "import matplotlib.pyplot as plt\n",
    "%matplotlib inline\n",
    "import plotly.plotly as py\n",
    "import plotly.figure_factory as ff\n",
    "import plotly.graph_objs as go\n",
    "from plotly.offline import download_plotlyjs, init_notebook_mode, plot, iplot\n",
    "init_notebook_mode(connected=True)\n",
    "py.plotly.tools.set_credentials_file(username='dopf', api_key='oTdrjRWtB9H2MWm9w98V')"
   ]
  },
  {
   "cell_type": "code",
   "execution_count": 15,
   "metadata": {},
   "outputs": [],
   "source": [
    "N = 100\n",
    "x_t = np.arange(N)\n",
    "y_rand = np.random.rand(N)"
   ]
  },
  {
   "cell_type": "code",
   "execution_count": 16,
   "metadata": {},
   "outputs": [],
   "source": [
    "alpha = 0.1 #smoothing factor\n",
    "\n",
    "y_sm = np.zeros(100) #empty array to hold smoothed values test\n",
    "\n",
    "it = np.nditer(y_rand, order='C', flags=['f_index'])\n",
    "while not it.finished:\n",
    "    #print(\"%f <%d> \\n\" % (it[0], it.index), end=' ')\n",
    "    if it.index == 0:\n",
    "        y_sm[it.index] = it[0]\n",
    "    else:\n",
    "        y_sm[it.index] = alpha * it[0] + (1-alpha) * y_sm[it.index-1]\n",
    "    it.iternext()"
   ]
  },
  {
   "cell_type": "code",
   "execution_count": 17,
   "metadata": {},
   "outputs": [
    {
     "data": {
      "text/html": [
       "<iframe id=\"igraph\" scrolling=\"no\" style=\"border:none;\" seamless=\"seamless\" src=\"https://plot.ly/~dopf/10.embed\" height=\"525px\" width=\"100%\"></iframe>"
      ],
      "text/plain": [
       "<plotly.tools.PlotlyDisplay object>"
      ]
     },
     "execution_count": 17,
     "metadata": {},
     "output_type": "execute_result"
    }
   ],
   "source": [
    "trace1 = go.Scatter(\n",
    "    x = x_t,\n",
    "    y = y_rand\n",
    ")\n",
    "\n",
    "trace2 = go.Scatter(\n",
    "    x = x_t,\n",
    "    y = y_sm\n",
    ")\n",
    "\n",
    "data = [trace1,trace2]\n",
    "\n",
    "layout = go.Layout(\n",
    "    xaxis=dict(\n",
    "        range=[0, 100]\n",
    "    ),\n",
    "    yaxis=dict(\n",
    "        range=[-2, 2]\n",
    "    )\n",
    ")\n",
    "\n",
    "#fig = go.Figure(data=data, layout=layout)\n",
    "#py.iplot(fig, data=data, layout=layout)\n",
    "py.iplot(data)"
   ]
  },
  {
   "cell_type": "code",
   "execution_count": null,
   "metadata": {},
   "outputs": [],
   "source": []
  }
 ],
 "metadata": {
  "kernelspec": {
   "display_name": "Python 3",
   "language": "python",
   "name": "python3"
  },
  "language_info": {
   "codemirror_mode": {
    "name": "ipython",
    "version": 3
   },
   "file_extension": ".py",
   "mimetype": "text/x-python",
   "name": "python",
   "nbconvert_exporter": "python",
   "pygments_lexer": "ipython3",
   "version": "3.7.1"
  }
 },
 "nbformat": 4,
 "nbformat_minor": 1
}
